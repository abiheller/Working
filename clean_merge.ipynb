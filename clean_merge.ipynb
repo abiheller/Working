{
 "cells": [
  {
   "cell_type": "code",
   "execution_count": null,
   "id": "b68de6e8",
   "metadata": {},
   "outputs": [],
   "source": [
    "nodes = pd.read_csv(\n",
    "    'https://yeatmanlab.github.io/AFQBrowser-demo/data/nodes.csv',\n",
    "    index_col=\"subjectID\",\n",
    "    usecols=[\"subjectID\", \"tractID\", \"nodeID\", \"fa\"])"
   ]
  },
  {
   "cell_type": "code",
   "execution_count": null,
   "id": "95692780",
   "metadata": {},
   "outputs": [],
   "source": [
    "frames = [df1, df2, df3]\n",
    "\n",
    "result = pd.concat(frames)"
   ]
  },
  {
   "cell_type": "code",
   "execution_count": null,
   "id": "550abbbb",
   "metadata": {},
   "outputs": [],
   "source": [
    "joined = pd.merge(nodes, subjects, left_index=True, right_index=True)\n",
    "joined.info()"
   ]
  }
 ],
 "metadata": {
  "kernelspec": {
   "display_name": "Python 3 (ipykernel)",
   "language": "python",
   "name": "python3"
  },
  "language_info": {
   "codemirror_mode": {
    "name": "ipython",
    "version": 3
   },
   "file_extension": ".py",
   "mimetype": "text/x-python",
   "name": "python",
   "nbconvert_exporter": "python",
   "pygments_lexer": "ipython3",
   "version": "3.10.9"
  }
 },
 "nbformat": 4,
 "nbformat_minor": 5
}
