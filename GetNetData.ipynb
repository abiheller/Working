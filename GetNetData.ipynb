{
 "cells": [
  {
   "cell_type": "code",
   "execution_count": 1,
   "id": "24e1f451-4081-4cc3-9e2d-d866b354b64a",
   "metadata": {},
   "outputs": [],
   "source": [
    "import pandas as pd\n",
    "import os\n",
    "import numpy as np\n",
    "import glob"
   ]
  },
  {
   "cell_type": "code",
   "execution_count": 7,
   "id": "0461b454-0ba3-4f8b-8fbd-d37a7a8732db",
   "metadata": {},
   "outputs": [],
   "source": [
    "'''Set path variable and initialize the list of files we pull for each subject'''\n",
    "\n",
    "path_str = 'ashs/atlas_princeton/'\n",
    "\n",
    "subs_list = glob.glob('ashs/atlas_princeton/*')\n",
    "subs_list = [i.split('/')[-1] for i in subs_list]\n",
    "\n",
    "'''Short list to test with'''\n",
    "#subs_list = ['sub-001', 'sub-025']\n",
    "''''''\n",
    "\n",
    "data_list = ['ses-1/final/ses-1_icv.txt','ses-1/final/ses-1_left_multiatlas_raw_volumes.txt','ses-1/final/ses-1_right_multiatlas_raw_volumes.txt']"
   ]
  },
  {
   "cell_type": "code",
   "execution_count": 8,
   "id": "73c1038a-a280-499a-8b73-83d78e2e6df3",
   "metadata": {},
   "outputs": [],
   "source": [
    "'''Opens the files for each subject by making 3 tmp dfs. We manipulate the data and index vars to support concat later'''\n",
    "net_df = pd.DataFrame()\n",
    "for sub in subs_list:\n",
    "    \n",
    "    sub_df = pd.DataFrame()\n",
    "    \n",
    "    icv_df = pd.read_csv(os.path.join(path_str,sub,data_list[0]), sep = \"\\s+\", header = None,)\n",
    "    \n",
    "    '''The merge statements combine the l/r column and the measure column to keep them seperate later.'''\n",
    "    left_df = pd.read_csv(os.path.join(path_str,sub,data_list[1]), sep = \"\\s+\", header = None,)\n",
    "    left_df['merge'] = left_df[1] + '-' + left_df[2]\n",
    "    \n",
    "    right_df = pd.read_csv(os.path.join(path_str,sub,data_list[2]), sep = \"\\s+\", header = None,)\n",
    "    right_df['merge'] = right_df[1] + '-' + right_df[2]\n",
    "\n",
    "    '''Here we begin making the subjects total df based off the icv df. Setting the index is required for proper concatination later. Inplace means we don't have to reassign the df.'''\n",
    "    sub_df['Subject'] = [sub]\n",
    "    sub_df['ICV'] = icv_df[1]\n",
    "    sub_df.set_index('Subject', inplace=True)\n",
    "    \n",
    "    '''L and R df's are made in identical ways. We make lists from the measures and values and transpose them with \".T\" from long to tall. I was inserting the subject number,\n",
    "    but I had to end up making it the index anyway so append would also work.'''\n",
    "    l_measures = list(left_df['merge'])\n",
    "    l_measures.insert(0,'Subject')\n",
    "    l_values = list(left_df[4])\n",
    "    l_values.insert(0,sub)\n",
    "    l_df = pd.DataFrame(l_values).T\n",
    "    l_df.columns = l_measures\n",
    "    l_df.set_index('Subject', inplace=True)\n",
    "\n",
    "\n",
    "    r_measures = list(right_df['merge'])\n",
    "    r_measures.insert(0,'Subject')\n",
    "    r_values = list(right_df[4])\n",
    "    r_values.insert(0,sub)\n",
    "    r_df = pd.DataFrame(r_values).T\n",
    "    r_df.columns = r_measures\n",
    "    r_df.set_index('Subject', inplace=True)\n",
    "    \n",
    "    '''Concatinate the tmp df's into one subject df.'''\n",
    "    sub_df = pd.concat([sub_df, l_df, r_df], axis=1)\n",
    "\n",
    "    '''Here we concatinate the sub and net dfs.'''\n",
    "    net_df = pd.concat([net_df, sub_df], sort=False)\n",
    "    \n",
    "net_df.to_csv('net_princeton_data.csv')"
   ]
  },
  {
   "cell_type": "code",
   "execution_count": null,
   "id": "6f0ed4ae-2d81-475f-837c-eba0fa24c91e",
   "metadata": {},
   "outputs": [],
   "source": []
  },
  {
   "cell_type": "code",
   "execution_count": null,
   "id": "e197ba7d-605c-41f3-8962-32ce8c0176dc",
   "metadata": {},
   "outputs": [],
   "source": []
  }
 ],
 "metadata": {
  "kernelspec": {
   "display_name": "Python 3 (ipykernel)",
   "language": "python",
   "name": "python3"
  },
  "language_info": {
   "codemirror_mode": {
    "name": "ipython",
    "version": 3
   },
   "file_extension": ".py",
   "mimetype": "text/x-python",
   "name": "python",
   "nbconvert_exporter": "python",
   "pygments_lexer": "ipython3",
   "version": "3.10.9"
  }
 },
 "nbformat": 4,
 "nbformat_minor": 5
}
